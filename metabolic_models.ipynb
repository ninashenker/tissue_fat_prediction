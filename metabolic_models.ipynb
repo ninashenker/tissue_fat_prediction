{
 "cells": [
  {
   "cell_type": "code",
   "execution_count": 1,
   "metadata": {},
   "outputs": [
    {
     "name": "stdout",
     "output_type": "stream",
     "text": [
      "Index(['Subject.ID', 'Partition', 'Tissue.Sample.ID_pancreas', 'Sex_value',\n",
      "       'Sex', 'Age_value', 'Age.Bracket', 'Hardy.Scale',\n",
      "       'Pathology.Categories_pancreas', 'Pathology.Notes_pancreas',\n",
      "       'Tissue.Sample.ID_liver', 'Pathology.Categories_liver',\n",
      "       'Pathology.Notes_liver', 'SAMPID_pancreas', 'SMTS_pancreas',\n",
      "       'SMPTHNTS_pancreas', 'SAMPID_liver', 'SMTS_liver', 'SMPTHNTS_liver',\n",
      "       'Fat.Percentage_liver', 'Fat.Percentage_pancreas'],\n",
      "      dtype='object')\n"
     ]
    }
   ],
   "source": [
    "import pandas as pd\n",
    "import numpy as np\n",
    "df = pd.read_excel(\"cleaned_fat_percentage_data.xlsx\")\n",
    "print(df.columns)"
   ]
  },
  {
   "cell_type": "code",
   "execution_count": 2,
   "metadata": {},
   "outputs": [
    {
     "name": "stdout",
     "output_type": "stream",
     "text": [
      "['Fast death - natural causes', 'Fast death - violent', 'Intermediate death', 'Slow death', 'Ventilator case']\n",
      "    Partition  Age_value  Sex_value  Fast death - natural causes  \\\n",
      "0       train        0.4        0.0                          0.0   \n",
      "1       train        0.4        1.0                          0.0   \n",
      "2       train        0.6        1.0                          0.0   \n",
      "3       train        0.8        0.0                          0.0   \n",
      "4       train        0.8        1.0                          0.0   \n",
      "..        ...        ...        ...                          ...   \n",
      "558     train        0.6        1.0                          0.0   \n",
      "559     train        0.6        0.0                          0.0   \n",
      "560     train        0.8        1.0                          0.0   \n",
      "561     train        0.4        0.0                          0.0   \n",
      "562     train        0.6        1.0                          0.0   \n",
      "\n",
      "     Fast death - violent  Intermediate death  Slow death  Ventilator case  \\\n",
      "0                     0.0                 0.0         0.0              1.0   \n",
      "1                     0.0                 0.0         0.0              1.0   \n",
      "2                     0.0                 0.0         0.0              1.0   \n",
      "3                     0.0                 0.0         0.0              1.0   \n",
      "4                     0.0                 0.0         0.0              1.0   \n",
      "..                    ...                 ...         ...              ...   \n",
      "558                   0.0                 1.0         0.0              0.0   \n",
      "559                   0.0                 0.0         0.0              1.0   \n",
      "560                   0.0                 1.0         0.0              0.0   \n",
      "561                   0.0                 0.0         0.0              1.0   \n",
      "562                   0.0                 0.0         1.0              0.0   \n",
      "\n",
      "     Fat.Percentage_liver  Fat.Percentage_pancreas  \n",
      "0                0.699742                 0.322048  \n",
      "1                0.110903                 0.259899  \n",
      "2                0.141749                 0.153810  \n",
      "3                0.521946                 0.222066  \n",
      "4                0.331075                 0.489111  \n",
      "..                    ...                      ...  \n",
      "558              0.191315                 0.034780  \n",
      "559              0.257241                 0.122241  \n",
      "560              0.300240                 0.136047  \n",
      "561              0.118138                 0.004549  \n",
      "562              0.304305                 0.084694  \n",
      "\n",
      "[563 rows x 10 columns]\n",
      "(563, 10)\n",
      "(9, 10)\n"
     ]
    },
    {
     "name": "stderr",
     "output_type": "stream",
     "text": [
      "/usr/local/Cellar/jupyterlab/2.0.1/libexec/lib/python3.7/site-packages/ipykernel_launcher.py:18: SettingWithCopyWarning: \n",
      "A value is trying to be set on a copy of a slice from a DataFrame.\n",
      "Try using .loc[row_indexer,col_indexer] = value instead\n",
      "\n",
      "See the caveats in the documentation: https://pandas.pydata.org/pandas-docs/stable/user_guide/indexing.html#returning-a-view-versus-a-copy\n",
      "/usr/local/Cellar/jupyterlab/2.0.1/libexec/lib/python3.7/site-packages/ipykernel_launcher.py:19: SettingWithCopyWarning: \n",
      "A value is trying to be set on a copy of a slice from a DataFrame.\n",
      "Try using .loc[row_indexer,col_indexer] = value instead\n",
      "\n",
      "See the caveats in the documentation: https://pandas.pydata.org/pandas-docs/stable/user_guide/indexing.html#returning-a-view-versus-a-copy\n",
      "/usr/local/Cellar/jupyterlab/2.0.1/libexec/lib/python3.7/site-packages/ipykernel_launcher.py:24: SettingWithCopyWarning: \n",
      "A value is trying to be set on a copy of a slice from a DataFrame.\n",
      "Try using .loc[row_indexer,col_indexer] = value instead\n",
      "\n",
      "See the caveats in the documentation: https://pandas.pydata.org/pandas-docs/stable/user_guide/indexing.html#returning-a-view-versus-a-copy\n",
      "/usr/local/Cellar/jupyterlab/2.0.1/libexec/lib/python3.7/site-packages/ipykernel_launcher.py:25: SettingWithCopyWarning: \n",
      "A value is trying to be set on a copy of a slice from a DataFrame.\n",
      "Try using .loc[row_indexer,col_indexer] = value instead\n",
      "\n",
      "See the caveats in the documentation: https://pandas.pydata.org/pandas-docs/stable/user_guide/indexing.html#returning-a-view-versus-a-copy\n",
      "/usr/local/Cellar/jupyterlab/2.0.1/libexec/lib/python3.7/site-packages/ipykernel_launcher.py:28: SettingWithCopyWarning: \n",
      "A value is trying to be set on a copy of a slice from a DataFrame.\n",
      "Try using .loc[row_indexer,col_indexer] = value instead\n",
      "\n",
      "See the caveats in the documentation: https://pandas.pydata.org/pandas-docs/stable/user_guide/indexing.html#returning-a-view-versus-a-copy\n"
     ]
    }
   ],
   "source": [
    "from sklearn.preprocessing import OneHotEncoder\n",
    "from sklearn.preprocessing import StandardScaler\n",
    "\n",
    "pd.set_option('display.max_columns', None)\n",
    "\n",
    "# Convert hardy types to one hot vector\n",
    "hardy_types = list(pd.get_dummies(df['Hardy.Scale']).columns)\n",
    "df_one_hot_hardy = pd.concat([df,  pd.get_dummies(df['Hardy.Scale'])], axis=1)\n",
    "\n",
    "print(hardy_types)\n",
    "# Get relevant columns\n",
    "dataset = df_one_hot_hardy[['Partition', 'Age_value', 'Sex_value'] + hardy_types + ['Fat.Percentage_liver', 'Fat.Percentage_pancreas']]\n",
    "\n",
    "# Normalize scalers\n",
    "dataset['Age_value'] = (dataset['Age_value'] - dataset['Age_value'].min()) / (dataset['Age_value'].max() - dataset['Age_value'].min())\n",
    "dataset['Sex_value'] = (dataset['Sex_value'] - dataset['Sex_value'].min()) / (dataset['Sex_value'].max() - dataset['Sex_value'].min())\n",
    "dataset['Fat.Percentage_liver'] = (dataset['Fat.Percentage_liver'] - dataset['Fat.Percentage_liver'].min()) / (dataset['Fat.Percentage_liver'].max() - dataset['Fat.Percentage_liver'].min())\n",
    "dataset['Fat.Percentage_pancreas'] = (dataset['Fat.Percentage_pancreas'] - dataset['Fat.Percentage_pancreas'].min()) / (dataset['Fat.Percentage_pancreas'].max() - dataset['Fat.Percentage_pancreas'].min()) \n",
    "\n",
    "for x in hardy_types:\n",
    "    dataset[x] = (dataset[x] - dataset[x].min()) / (dataset[x].max() - dataset[x].min())\n",
    "\n",
    "dataset_train = dataset[dataset['Partition'] == 'train'].reset_index(drop=True)\n",
    "dataset_val = dataset[dataset['Partition'] == 'val'].reset_index(drop=True)\n",
    "\n",
    "print(dataset_train)\n",
    "print(dataset_train.shape)\n",
    "print(dataset_val.shape)"
   ]
  },
  {
   "cell_type": "code",
   "execution_count": 17,
   "metadata": {},
   "outputs": [
    {
     "name": "stdout",
     "output_type": "stream",
     "text": [
      "Target: \n",
      " Fat.Percentage_pancreas\n",
      "Features: \n",
      " ['Age_value', 'Sex_value', 'Fast death - natural causes', 'Fast death - violent', 'Intermediate death', 'Slow death', 'Ventilator case', 'Fat.Percentage_liver']\n",
      "Coefficients: \n",
      " [0.13450200406672314, 0.026584572430967575, -5791599700367.068, -5791599700367.057, -5791599700366.981, -5791599700367.056, -5791599700367.048, 0.11097971512453168]\n",
      "Intercept: \n",
      " [5.7915997e+12]\n",
      "Mean squared error: 0.0299\n",
      "Coefficient of determination: 0.02\n"
     ]
    },
    {
     "data": {
      "image/png": "[encoded data removed]",
      "text/plain": [
       "<Figure size 432x288 with 1 Axes>"
      ]
     },
     "metadata": {
      "needs_background": "light"
     },
     "output_type": "display_data"
    },
    {
     "data": {
      "image/png": "[encoded data removed]",
      "text/plain": [
       "<Figure size 432x288 with 1 Axes>"
      ]
     },
     "metadata": {},
     "output_type": "display_data"
    }
   ],
   "source": [
    "from sklearn import datasets, linear_model\n",
    "from sklearn.metrics import mean_squared_error, r2_score\n",
    "from matplotlib import pyplot as plt\n",
    "\n",
    "features = ['Age_value', 'Sex_value'] + hardy_types +  ['Fat.Percentage_liver']\n",
    "target = 'Fat.Percentage_pancreas'\n",
    "\n",
    "x_train = dataset_train.loc[:, features].values\n",
    "y_train = dataset_train.loc[:,[target]].values\n",
    "\n",
    "regr = linear_model.LinearRegression()\n",
    "regr.fit(x_train, y_train)\n",
    "\n",
    "x_val = dataset_val.loc[:, features].values\n",
    "y_val = dataset_val.loc[:,[target]].values\n",
    "y_val_pred = regr.predict(x_val)\n",
    "\n",
    "\n",
    "print('Mean squared error: %.4f' % mean_squared_error(y_val, y_val_pred))\n",
    "print('Coefficient of determination: %.2f' % r2_score(y_val, y_val_pred))\n",
    "\n",
    "def abline(slope, intercept):\n",
    "    \"\"\"Plot a line from slope and intercept\"\"\"\n",
    "    axes = plt.gca()\n",
    "    x_vals = np.array(axes.get_xlim())\n",
    "    y_vals = intercept + slope * x_vals\n",
    "    plt.plot(x_vals, y_vals, '--')\n",
    "\n",
    "# Plot outputs\n",
    "for i, feature_name in enumerate(features):\n",
    "  if feature_name not in ['Age_value', 'Fat.Percentage_liver']:\n",
    "    continue\n",
    "\n",
    "  plt.figure()\n",
    "  plt.xlabel(feature_name)\n",
    "  plt.ylabel(target)\n",
    "  plt.scatter(x_val[:, i], y_val,  color='black')\n",
    "  plt.scatter(x_val[:, i], y_val_pred, color='blue', linewidth=3)\n",
    "\n",
    "plt.xticks(())\n",
    "plt.yticks(())\n",
    "\n",
    "plt.show()"
   ]
  },
  {
   "cell_type": "code",
   "execution_count": 16,
   "metadata": {},
   "outputs": [
    {
     "name": "stdout",
     "output_type": "stream",
     "text": [
      "Mean squared error: 0.0268\n",
      "Coefficient of determination: 0.12\n",
      "----------------------------------\n"
     ]
    },
    {
     "name": "stderr",
     "output_type": "stream",
     "text": [
      "/usr/local/Cellar/jupyterlab/2.0.1/libexec/lib/python3.7/site-packages/sklearn/utils/validation.py:760: DataConversionWarning: A column-vector y was passed when a 1d array was expected. Please change the shape of y to (n_samples, ), for example using ravel().\n",
      "  y = column_or_1d(y, warn=True)\n"
     ]
    }
   ],
   "source": [
    "from sklearn.svm import SVR\n",
    "\n",
    "clf = SVR(degree = 2 , kernel = 'poly')\n",
    "clf.fit(x_train, y_train)\n",
    "x_val = dataset_val.loc[:, features].values\n",
    "y_val = dataset_val.loc[:,[target]].values\n",
    "y_val_pred = clf.predict(x_val)\n",
    "\n",
    "\n",
    "print('Mean squared error: %.4f' % mean_squared_error(y_val, y_val_pred))\n",
    "print('Coefficient of determination: %.2f' % r2_score(y_val, y_val_pred))\n",
    "print('----------------------------------')"
   ]
  },
  {
   "cell_type": "code",
   "execution_count": 4,
   "metadata": {},
   "outputs": [
    {
     "name": "stdout",
     "output_type": "stream",
     "text": [
      "Mean squared error: 0.0312\n",
      "Coefficient of determination: -0.03\n",
      "----------------------------------\n",
      "Mean squared error: 0.0422\n",
      "Coefficient of determination: -0.39\n",
      "----------------------------------\n",
      "Mean squared error: 0.0502\n",
      "Coefficient of determination: -0.65\n",
      "----------------------------------\n",
      "Mean squared error: 0.0469\n",
      "Coefficient of determination: -0.54\n",
      "----------------------------------\n",
      "Mean squared error: 0.1776\n",
      "Coefficient of determination: -4.84\n",
      "----------------------------------\n",
      "Mean squared error: 2431.8049\n",
      "Coefficient of determination: -80002.15\n",
      "----------------------------------\n"
     ]
    }
   ],
   "source": [
    "from sklearn.preprocessing import PolynomialFeatures\n",
    "for degree in [1,2,3,4,5,6]:\n",
    "    poly = PolynomialFeatures(degree = degree)\n",
    "    x_train_poly = poly.fit_transform(x_train)\n",
    "    poly_reg = linear_model.LinearRegression()\n",
    "    poly_reg.fit(x_train_poly, y_train)\n",
    "\n",
    "    x_val = dataset_val.loc[:, features].values\n",
    "    x_val_poly = poly.fit_transform(x_val)\n",
    "\n",
    "    y_val = dataset_val.loc[:,[target]].values\n",
    "    y_val_pred = poly_reg.predict(x_val_poly)\n",
    "    print('Mean squared error: %.4f' % mean_squared_error(y_val, y_val_pred))\n",
    "    print('Coefficient of determination: %.2f' % r2_score(y_val, y_val_pred))\n",
    "    print('----------------------------------')\n",
    "    "
   ]
  },
  {
   "cell_type": "code",
   "execution_count": null,
   "metadata": {},
   "outputs": [],
   "source": [
    "from sklearn.linear_model import ElasticNet\n",
    "from sklearn.preprocessing import PolynomialFeatures\n",
    "\n",
    "for degree in range(1, 10):\n",
    "    poly = PolynomialFeatures(degree = degree)\n",
    "    x_train_poly = poly.fit_transform(x_train)\n",
    "    en = ElasticNet()\n",
    "    en.fit(x_train_poly, y_train)\n",
    "\n",
    "    x_val = dataset_val.loc[:, features].values\n",
    "    x_val_poly = poly.fit_transform(x_val)\n",
    "\n",
    "    y_val = dataset_val.loc[:,[target]].values\n",
    "    y_val_pred = en.predict(x_val_poly)\n",
    "    print('Mean squared error: %.4f' % mean_squared_error(y_val, y_val_pred))\n",
    "    print('Coefficient of determination: %.2f' % r2_score(y_val, y_val_pred))\n",
    "    print('----------------------------------')"
   ]
  },
  {
   "cell_type": "code",
   "execution_count": 5,
   "metadata": {},
   "outputs": [
    {
     "name": "stdout",
     "output_type": "stream",
     "text": [
      "Mean squared error: 0.0312\n",
      "Coefficient of determination: -0.03\n",
      "----------------------------------\n",
      "Mean squared error: 0.0422\n",
      "Coefficient of determination: -0.39\n",
      "----------------------------------\n",
      "Mean squared error: 0.0502\n",
      "Coefficient of determination: -0.65\n",
      "----------------------------------\n",
      "Mean squared error: 0.0469\n",
      "Coefficient of determination: -0.54\n",
      "----------------------------------\n",
      "Mean squared error: 0.1776\n",
      "Coefficient of determination: -4.84\n",
      "----------------------------------\n",
      "Mean squared error: 2431.8049\n",
      "Coefficient of determination: -80002.15\n",
      "----------------------------------\n"
     ]
    }
   ],
   "source": [
    "from sklearn.preprocessing import PolynomialFeatures\n",
    "\n",
    "for degree in [1,2,3,4,5,6]:\n",
    "    poly = PolynomialFeatures(degree = degree)\n",
    "    x_train_poly = poly.fit_transform(x_train)\n",
    "    poly_reg = linear_model.LinearRegression()\n",
    "    poly_reg.fit(x_train_poly, y_train)\n",
    "\n",
    "    x_val = dataset_val.loc[:, features].values\n",
    "    x_val_poly = poly.fit_transform(x_val)\n",
    "\n",
    "    y_val = dataset_val.loc[:,[target]].values\n",
    "    y_val_pred = poly_reg.predict(x_val_poly)\n",
    "    print('Mean squared error: %.4f' % mean_squared_error(y_val, y_val_pred))\n",
    "    print('Coefficient of determination: %.2f' % r2_score(y_val, y_val_pred))\n",
    "    print('----------------------------------')\n",
    "    "
   ]
  },
  {
   "cell_type": "code",
   "execution_count": 6,
   "metadata": {},
   "outputs": [
    {
     "name": "stdout",
     "output_type": "stream",
     "text": [
      "Mean squared error: 0.0412\n",
      "Coefficient of determination: -0.35\n",
      "----------------------------------\n",
      "Mean squared error: 0.0459\n",
      "Coefficient of determination: -0.51\n",
      "----------------------------------\n",
      "Mean squared error: 0.0346\n",
      "Coefficient of determination: -0.14\n",
      "----------------------------------\n"
     ]
    },
    {
     "name": "stderr",
     "output_type": "stream",
     "text": [
      "/usr/local/Cellar/jupyterlab/2.0.1/libexec/lib/python3.7/site-packages/ipykernel_launcher.py:5: DataConversionWarning: A column-vector y was passed when a 1d array was expected. Please change the shape of y to (n_samples,), for example using ravel().\n",
      "  \"\"\"\n",
      "/usr/local/Cellar/jupyterlab/2.0.1/libexec/lib/python3.7/site-packages/ipykernel_launcher.py:5: DataConversionWarning: A column-vector y was passed when a 1d array was expected. Please change the shape of y to (n_samples,), for example using ravel().\n",
      "  \"\"\"\n",
      "/usr/local/Cellar/jupyterlab/2.0.1/libexec/lib/python3.7/site-packages/ipykernel_launcher.py:5: DataConversionWarning: A column-vector y was passed when a 1d array was expected. Please change the shape of y to (n_samples,), for example using ravel().\n",
      "  \"\"\"\n"
     ]
    }
   ],
   "source": [
    "from sklearn.ensemble import RandomForestRegressor\n",
    "\n",
    "for n_estimators in [5,10,15]:\n",
    "    t_regr = RandomForestRegressor(n_estimators=n_estimators)\n",
    "    t_regr.fit(x_train, y_train)\n",
    "    x_val = dataset_val.loc[:, features].values\n",
    "    y_val = dataset_val.loc[:,[target]].values\n",
    "    y_val_pred = t_regr.predict(x_val)\n",
    "\n",
    "    print('Mean squared error: %.4f' % mean_squared_error(y_val, y_val_pred))\n",
    "    print('Coefficient of determination: %.2f' % r2_score(y_val, y_val_pred))\n",
    "    print('----------------------------------')"
   ]
  },
  {
   "cell_type": "code",
   "execution_count": null,
   "metadata": {},
   "outputs": [],
   "source": [
    "from sklearn.neighbors import KNeighborsRegressor\n",
    "for n_neighbors in [2]:\n",
    "    KNN = KNeighborsRegressor(n_neighbors=n_neighbors)\n",
    "    KNN.fit(x_train, y_train)\n",
    "    x_val = dataset_val.loc[:, features].values\n",
    "    y_val = dataset_val.loc[:,[target]].values\n",
    "    y_val_pred = KNN.predict(x_val)\n",
    "\n",
    "    print('Mean squared error: %.4f' % mean_squared_error(y_val, y_val_pred))    \n",
    "    print('Coefficient of determination: %.2f' % r2_score(y_val, y_val_pred))\n",
    "    print('----------------------------------')"
   ]
  },
  {
   "cell_type": "code",
   "execution_count": 8,
   "metadata": {},
   "outputs": [
    {
     "name": "stdout",
     "output_type": "stream",
     "text": [
      "Mean squared error: 0.0312\n",
      "Coefficient of determination: -0.03\n",
      "----------------------------------\n"
     ]
    }
   ],
   "source": [
    "from sklearn.gaussian_process import GaussianProcessRegressor\n",
    "from sklearn.gaussian_process.kernels import DotProduct, WhiteKernel, RBF, Product\n",
    "\n",
    "kernel = DotProduct() + WhiteKernel()\n",
    "gpr = GaussianProcessRegressor(kernel=kernel)\n",
    "gpr.fit(x_train, y_train)\n",
    "x_val = dataset_val.loc[:, features].values\n",
    "y_val = dataset_val.loc[:,[target]].values\n",
    "y_val_pred = gpr.predict(x_val)\n",
    "\n",
    "print('Mean squared error: %.4f' % mean_squared_error(y_val, y_val_pred))    \n",
    "print('Coefficient of determination: %.2f' % r2_score(y_val, y_val_pred))\n",
    "print('----------------------------------')"
   ]
  },
  {
   "cell_type": "code",
   "execution_count": null,
   "metadata": {},
   "outputs": [],
   "source": []
  }
 ],
 "metadata": {
  "kernelspec": {
   "display_name": "Python 3",
   "language": "python",
   "name": "python3"
  },
  "language_info": {
   "codemirror_mode": {
    "name": "ipython",
    "version": 3
   },
   "file_extension": ".py",
   "mimetype": "text/x-python",
   "name": "python",
   "nbconvert_exporter": "python",
   "pygments_lexer": "ipython3",
   "version": "3.7.7"
  }
 },
 "nbformat": 4,
 "nbformat_minor": 4
}
